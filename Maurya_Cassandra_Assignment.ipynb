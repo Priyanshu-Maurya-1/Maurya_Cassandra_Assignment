{
 "cells": [
  {
   "cell_type": "markdown",
   "id": "11840789",
   "metadata": {},
   "source": [
    "# Priyanshu Maurya Cassandra Assignment"
   ]
  },
  {
   "cell_type": "code",
   "execution_count": 2,
   "id": "5c49846f",
   "metadata": {},
   "outputs": [],
   "source": [
    "from cassandra.cluster import Cluster\n",
    "import pandas as pd\n"
   ]
  },
  {
   "cell_type": "code",
   "execution_count": 3,
   "id": "b68f6c53",
   "metadata": {},
   "outputs": [
    {
     "data": {
      "text/html": [
       "<div>\n",
       "<style scoped>\n",
       "    .dataframe tbody tr th:only-of-type {\n",
       "        vertical-align: middle;\n",
       "    }\n",
       "\n",
       "    .dataframe tbody tr th {\n",
       "        vertical-align: top;\n",
       "    }\n",
       "\n",
       "    .dataframe thead th {\n",
       "        text-align: right;\n",
       "    }\n",
       "</style>\n",
       "<table border=\"1\" class=\"dataframe\">\n",
       "  <thead>\n",
       "    <tr style=\"text-align: right;\">\n",
       "      <th></th>\n",
       "      <th>Region</th>\n",
       "      <th>Country</th>\n",
       "      <th>Item Type</th>\n",
       "      <th>Sales Channel</th>\n",
       "      <th>Order Priority</th>\n",
       "      <th>Order Date</th>\n",
       "      <th>Order ID</th>\n",
       "      <th>Ship Date</th>\n",
       "      <th>UnitsSold</th>\n",
       "      <th>UnitPrice</th>\n",
       "      <th>UnitCost</th>\n",
       "      <th>TotalRevenue</th>\n",
       "      <th>TotalCost</th>\n",
       "      <th>TotalProfit</th>\n",
       "    </tr>\n",
       "  </thead>\n",
       "  <tbody>\n",
       "    <tr>\n",
       "      <th>0</th>\n",
       "      <td>Sub-Saharan Africa</td>\n",
       "      <td>South Africa</td>\n",
       "      <td>Fruits</td>\n",
       "      <td>Offline</td>\n",
       "      <td>M</td>\n",
       "      <td>7/27/2012</td>\n",
       "      <td>443368995</td>\n",
       "      <td>7/28/2012</td>\n",
       "      <td>1593</td>\n",
       "      <td>9.33</td>\n",
       "      <td>6.92</td>\n",
       "      <td>14862.69</td>\n",
       "      <td>11023.56</td>\n",
       "      <td>3839.13</td>\n",
       "    </tr>\n",
       "    <tr>\n",
       "      <th>1</th>\n",
       "      <td>Middle East and North Africa</td>\n",
       "      <td>Morocco</td>\n",
       "      <td>Clothes</td>\n",
       "      <td>Online</td>\n",
       "      <td>M</td>\n",
       "      <td>9/14/2013</td>\n",
       "      <td>667593514</td>\n",
       "      <td>10/19/2013</td>\n",
       "      <td>4611</td>\n",
       "      <td>109.28</td>\n",
       "      <td>35.84</td>\n",
       "      <td>503890.08</td>\n",
       "      <td>165258.24</td>\n",
       "      <td>338631.84</td>\n",
       "    </tr>\n",
       "    <tr>\n",
       "      <th>2</th>\n",
       "      <td>Australia and Oceania</td>\n",
       "      <td>Papua New Guinea</td>\n",
       "      <td>Meat</td>\n",
       "      <td>Offline</td>\n",
       "      <td>M</td>\n",
       "      <td>5/15/2015</td>\n",
       "      <td>940995585</td>\n",
       "      <td>6/4/2015</td>\n",
       "      <td>360</td>\n",
       "      <td>421.89</td>\n",
       "      <td>364.69</td>\n",
       "      <td>151880.40</td>\n",
       "      <td>131288.40</td>\n",
       "      <td>20592.00</td>\n",
       "    </tr>\n",
       "    <tr>\n",
       "      <th>3</th>\n",
       "      <td>Sub-Saharan Africa</td>\n",
       "      <td>Djibouti</td>\n",
       "      <td>Clothes</td>\n",
       "      <td>Offline</td>\n",
       "      <td>H</td>\n",
       "      <td>5/17/2017</td>\n",
       "      <td>880811536</td>\n",
       "      <td>7/2/2017</td>\n",
       "      <td>562</td>\n",
       "      <td>109.28</td>\n",
       "      <td>35.84</td>\n",
       "      <td>61415.36</td>\n",
       "      <td>20142.08</td>\n",
       "      <td>41273.28</td>\n",
       "    </tr>\n",
       "    <tr>\n",
       "      <th>4</th>\n",
       "      <td>Europe</td>\n",
       "      <td>Slovakia</td>\n",
       "      <td>Beverages</td>\n",
       "      <td>Offline</td>\n",
       "      <td>L</td>\n",
       "      <td>10/26/2016</td>\n",
       "      <td>174590194</td>\n",
       "      <td>12/4/2016</td>\n",
       "      <td>3973</td>\n",
       "      <td>47.45</td>\n",
       "      <td>31.79</td>\n",
       "      <td>188518.85</td>\n",
       "      <td>126301.67</td>\n",
       "      <td>62217.18</td>\n",
       "    </tr>\n",
       "  </tbody>\n",
       "</table>\n",
       "</div>"
      ],
      "text/plain": [
       "                         Region           Country  Item Type Sales Channel  \\\n",
       "0            Sub-Saharan Africa      South Africa     Fruits       Offline   \n",
       "1  Middle East and North Africa           Morocco    Clothes        Online   \n",
       "2         Australia and Oceania  Papua New Guinea       Meat       Offline   \n",
       "3            Sub-Saharan Africa          Djibouti    Clothes       Offline   \n",
       "4                        Europe          Slovakia  Beverages       Offline   \n",
       "\n",
       "  Order Priority  Order Date   Order ID   Ship Date  UnitsSold  UnitPrice  \\\n",
       "0              M   7/27/2012  443368995   7/28/2012       1593       9.33   \n",
       "1              M   9/14/2013  667593514  10/19/2013       4611     109.28   \n",
       "2              M   5/15/2015  940995585    6/4/2015        360     421.89   \n",
       "3              H   5/17/2017  880811536    7/2/2017        562     109.28   \n",
       "4              L  10/26/2016  174590194   12/4/2016       3973      47.45   \n",
       "\n",
       "   UnitCost  TotalRevenue  TotalCost  TotalProfit  \n",
       "0      6.92      14862.69   11023.56      3839.13  \n",
       "1     35.84     503890.08  165258.24    338631.84  \n",
       "2    364.69     151880.40  131288.40     20592.00  \n",
       "3     35.84      61415.36   20142.08     41273.28  \n",
       "4     31.79     188518.85  126301.67     62217.18  "
      ]
     },
     "execution_count": 3,
     "metadata": {},
     "output_type": "execute_result"
    }
   ],
   "source": [
    "url = 'https://raw.githubusercontent.com/gchandra10/filestorage/main/sales_100.csv'\n",
    "df = pd.read_csv(url)\n",
    "df.head()\n"
   ]
  },
  {
   "cell_type": "code",
   "execution_count": 4,
   "id": "25b33445",
   "metadata": {},
   "outputs": [
    {
     "name": "stderr",
     "output_type": "stream",
     "text": [
      "WARNING:cassandra.cluster:Cluster.__init__ called with contact_points specified, but no load_balancing_policy. In the next major version, this will raise an error; please specify a load-balancing policy. (contact_points = ['localhost'], lbp = None)\n",
      "WARNING:cassandra.cluster:[control connection] Error connecting to ::1:9042:\n",
      "Traceback (most recent call last):\n",
      "  File \"C:\\Users\\princ\\anaconda3\\lib\\site-packages\\cassandra\\cluster.py\", line 3577, in _reconnect_internal\n",
      "    return self._try_connect(host)\n",
      "  File \"C:\\Users\\princ\\anaconda3\\lib\\site-packages\\cassandra\\cluster.py\", line 3599, in _try_connect\n",
      "    connection = self._cluster.connection_factory(host.endpoint, is_control_connection=True)\n",
      "  File \"C:\\Users\\princ\\anaconda3\\lib\\site-packages\\cassandra\\cluster.py\", line 1670, in connection_factory\n",
      "    return self.connection_class.factory(endpoint, self.connect_timeout, *args, **kwargs)\n",
      "  File \"C:\\Users\\princ\\anaconda3\\lib\\site-packages\\cassandra\\connection.py\", line 846, in factory\n",
      "    conn = cls(endpoint, *args, **kwargs)\n",
      "  File \"C:\\Users\\princ\\anaconda3\\lib\\site-packages\\cassandra\\io\\asyncorereactor.py\", line 353, in __init__\n",
      "    self._connect_socket()\n",
      "  File \"C:\\Users\\princ\\anaconda3\\lib\\site-packages\\cassandra\\connection.py\", line 951, in _connect_socket\n",
      "    raise socket.error(sockerr.errno, \"Tried connecting to %s. Last error: %s\" %\n",
      "ConnectionRefusedError: [Errno 10061] Tried connecting to [('::1', 9042, 0, 0)]. Last error: No connection could be made because the target machine actively refused it\n",
      "WARNING:cassandra.cluster:Downgrading core protocol version from 66 to 65 for 127.0.0.1:9042. To avoid this, it is best practice to explicitly set Cluster(protocol_version) to the version supported by your cluster. http://datastax.github.io/python-driver/api/cassandra/cluster.html#cassandra.cluster.Cluster.protocol_version\n",
      "WARNING:cassandra.cluster:Downgrading core protocol version from 65 to 5 for 127.0.0.1:9042. To avoid this, it is best practice to explicitly set Cluster(protocol_version) to the version supported by your cluster. http://datastax.github.io/python-driver/api/cassandra/cluster.html#cassandra.cluster.Cluster.protocol_version\n",
      "ERROR:cassandra.connection:Closing connection <AsyncoreConnection(1898368240464) 127.0.0.1:9042> due to protocol error: Error from server: code=000a [Protocol error] message=\"Beta version of the protocol used (5/v5-beta), but USE_BETA flag is unset\"\n",
      "WARNING:cassandra.cluster:Downgrading core protocol version from 5 to 4 for 127.0.0.1:9042. To avoid this, it is best practice to explicitly set Cluster(protocol_version) to the version supported by your cluster. http://datastax.github.io/python-driver/api/cassandra/cluster.html#cassandra.cluster.Cluster.protocol_version\n"
     ]
    }
   ],
   "source": [
    "\n",
    "cluster = Cluster(['localhost'])  \n",
    "session = cluster.connect()\n",
    "\n",
    "session.execute(\"\"\"\n",
    "    CREATE KEYSPACE IF NOT EXISTS sales_data \n",
    "    WITH REPLICATION = { 'class' : 'SimpleStrategy', 'replication_factor' : 1 }\n",
    "\"\"\")\n",
    "\n",
    "session.set_keyspace('sales_data')\n"
   ]
  },
  {
   "cell_type": "code",
   "execution_count": 10,
   "id": "ef0443e1",
   "metadata": {},
   "outputs": [
    {
     "data": {
      "text/plain": [
       "<cassandra.cluster.ResultSet at 0x1b9ff92d1f0>"
      ]
     },
     "execution_count": 10,
     "metadata": {},
     "output_type": "execute_result"
    }
   ],
   "source": [
    "\n",
    "session.execute('DROP TABLE IF EXISTS bronze_sales')\n",
    "\n",
    "session.execute(\"\"\"\n",
    "    CREATE TABLE IF NOT EXISTS bronze_sales (\n",
    "        region text,\n",
    "        country text,\n",
    "        item_type text,\n",
    "        sales_channel text,\n",
    "        order_priority text,\n",
    "        order_date date,\n",
    "        order_id int PRIMARY KEY,\n",
    "        ship_date date,\n",
    "        units_sold int,\n",
    "        unit_price float,\n",
    "        unit_cost float,\n",
    "        total_revenue float,\n",
    "        total_cost float,\n",
    "        total_profit float\n",
    "    )\n",
    "\"\"\")\n"
   ]
  },
  {
   "cell_type": "code",
   "execution_count": 13,
   "id": "ddaa5dd6",
   "metadata": {},
   "outputs": [],
   "source": [
    "from cassandra.query import SimpleStatement\n",
    "\n",
    "insert_bronze = session.prepare(\"\"\"\n",
    "    INSERT INTO bronze_sales (region, country, item_type, sales_channel, order_priority,\n",
    "                              order_date, order_id, ship_date, units_sold, unit_price, unit_cost,\n",
    "                              total_revenue, total_cost, total_profit)\n",
    "    VALUES (?, ?, ?, ?, ?, ?, ?, ?, ?, ?, ?, ?, ?, ?)\n",
    "\"\"\")\n",
    "\n",
    "df['Order Date'] = pd.to_datetime(df['Order Date'], format='%m/%d/%Y').dt.date\n",
    "df['Ship Date'] = pd.to_datetime(df['Ship Date'], format='%m/%d/%Y').dt.date\n",
    "\n",
    "df[['Order Date', 'Ship Date']].head()\n",
    "\n",
    "for index, row in df.iterrows():\n",
    "    session.execute(insert_bronze, (\n",
    "        row['Region'], row['Country'], row['Item Type'], row['Sales Channel'], row['Order Priority'],\n",
    "        row['Order Date'], row['Order ID'], row['Ship Date'], row['UnitsSold'], row['UnitPrice'], \n",
    "        row['UnitCost'], row['TotalRevenue'], row['TotalCost'], row['TotalProfit']\n",
    "    ))\n"
   ]
  },
  {
   "cell_type": "code",
   "execution_count": 14,
   "id": "44027578",
   "metadata": {},
   "outputs": [
    {
     "data": {
      "text/plain": [
       "<cassandra.cluster.ResultSet at 0x1b9ff91a730>"
      ]
     },
     "execution_count": 14,
     "metadata": {},
     "output_type": "execute_result"
    }
   ],
   "source": [
    "session.execute(\"\"\"\n",
    "    CREATE TABLE IF NOT EXISTS gold_sales_region (\n",
    "        region text PRIMARY KEY,\n",
    "        total_sales float\n",
    "    )\n",
    "\"\"\")\n"
   ]
  },
  {
   "cell_type": "code",
   "execution_count": 15,
   "id": "28f7b9f1",
   "metadata": {},
   "outputs": [
    {
     "data": {
      "text/plain": [
       "<cassandra.cluster.ResultSet at 0x1b9ff91a760>"
      ]
     },
     "execution_count": 15,
     "metadata": {},
     "output_type": "execute_result"
    }
   ],
   "source": [
    "session.execute(\"\"\"\n",
    "    CREATE TABLE IF NOT EXISTS gold_sales_country (\n",
    "        country text PRIMARY KEY,\n",
    "        total_sales float\n",
    "    )\n",
    "\"\"\")\n"
   ]
  },
  {
   "cell_type": "code",
   "execution_count": 16,
   "id": "18522418",
   "metadata": {},
   "outputs": [
    {
     "data": {
      "text/plain": [
       "<cassandra.cluster.ResultSet at 0x1b9ffcb9b20>"
      ]
     },
     "execution_count": 16,
     "metadata": {},
     "output_type": "execute_result"
    }
   ],
   "source": [
    "session.execute(\"\"\"\n",
    "    CREATE TABLE IF NOT EXISTS gold_sales_item_type (\n",
    "        item_type text PRIMARY KEY,\n",
    "        total_sales float\n",
    "    )\n",
    "\"\"\")\n"
   ]
  },
  {
   "cell_type": "code",
   "execution_count": 17,
   "id": "ae92b148",
   "metadata": {},
   "outputs": [],
   "source": [
    "from cassandra.query import SimpleStatement\n",
    "\n",
    "insert_bronze = session.prepare(\"\"\"\n",
    "    INSERT INTO bronze_sales (region, country, item_type, sales_channel, order_priority,\n",
    "                              order_date, order_id, ship_date, units_sold, unit_price, unit_cost,\n",
    "                              total_revenue, total_cost, total_profit)\n",
    "    VALUES (?, ?, ?, ?, ?, ?, ?, ?, ?, ?, ?, ?, ?, ?)\n",
    "\"\"\")\n",
    "\n",
    "for index, row in df.iterrows():\n",
    "    session.execute(insert_bronze, (\n",
    "        row['Region'], row['Country'], row['Item Type'], row['Sales Channel'], row['Order Priority'],\n",
    "        row['Order Date'], row['Order ID'], row['Ship Date'], row['UnitsSold'], row['UnitPrice'], \n",
    "        row['UnitCost'], row['TotalRevenue'], row['TotalCost'], row['TotalProfit']\n",
    "    ))\n"
   ]
  },
  {
   "cell_type": "code",
   "execution_count": 19,
   "id": "85214018",
   "metadata": {},
   "outputs": [
    {
     "data": {
      "text/plain": [
       "<cassandra.cluster.ResultSet at 0x1b9ffd4b430>"
      ]
     },
     "execution_count": 19,
     "metadata": {},
     "output_type": "execute_result"
    }
   ],
   "source": [
    "session.execute('DROP TABLE IF EXISTS silver_sales')\n",
    "\n",
    "session.execute(\"\"\"\n",
    "    CREATE TABLE IF NOT EXISTS silver_sales (\n",
    "        region text,\n",
    "        country text,\n",
    "        item_type text,\n",
    "        sales_channel text,\n",
    "        order_priority text,\n",
    "        order_date date,\n",
    "        order_id int PRIMARY KEY,\n",
    "        ship_date date,\n",
    "        units_sold int,\n",
    "        unit_price float,\n",
    "        unit_cost float,\n",
    "        total_revenue float,\n",
    "        total_cost float,\n",
    "        total_profit float\n",
    "    )\n",
    "\"\"\")\n"
   ]
  },
  {
   "cell_type": "code",
   "execution_count": 20,
   "id": "7e0a9a77",
   "metadata": {},
   "outputs": [],
   "source": [
    "insert_silver = session.prepare(\"\"\"\n",
    "    INSERT INTO silver_sales (region, country, item_type, sales_channel, order_priority,\n",
    "                              order_date, order_id, ship_date, units_sold, unit_price, unit_cost,\n",
    "                              total_revenue, total_cost, total_profit)\n",
    "    VALUES (?, ?, ?, ?, ?, ?, ?, ?, ?, ?, ?, ?, ?, ?)\n",
    "\"\"\")\n",
    "\n",
    "for index, row in df.iterrows():\n",
    "    session.execute(insert_silver, (\n",
    "        row['Region'], row['Country'], row['Item Type'], row['Sales Channel'], row['Order Priority'],\n",
    "        row['Order Date'], row['Order ID'], row['Ship Date'], row['UnitsSold'], row['UnitPrice'], \n",
    "        row['UnitCost'], row['TotalRevenue'], row['TotalCost'], row['TotalProfit']\n",
    "    ))\n"
   ]
  },
  {
   "cell_type": "code",
   "execution_count": 21,
   "id": "bb349779",
   "metadata": {},
   "outputs": [],
   "source": [
    "region_sales = df.groupby('Region')['TotalRevenue'].sum()\n",
    "\n",
    "for region, total_sales in region_sales.items():\n",
    "    session.execute(\"\"\"\n",
    "        INSERT INTO gold_sales_region (region, total_sales)\n",
    "        VALUES (%s, %s)\n",
    "    \"\"\", (region, total_sales))\n",
    "\n",
    "country_sales = df.groupby('Country')['TotalRevenue'].sum()\n",
    "for country, total_sales in country_sales.items():\n",
    "    session.execute(\"\"\"\n",
    "        INSERT INTO gold_sales_country (country, total_sales)\n",
    "        VALUES (%s, %s)\n",
    "    \"\"\", (country, total_sales))\n",
    "\n",
    "item_sales = df.groupby('Item Type')['TotalRevenue'].sum()\n",
    "for item_type, total_sales in item_sales.items():\n",
    "    session.execute(\"\"\"\n",
    "        INSERT INTO gold_sales_item_type (item_type, total_sales)\n",
    "        VALUES (%s, %s)\n",
    "    \"\"\", (item_type, total_sales))\n"
   ]
  },
  {
   "cell_type": "code",
   "execution_count": 22,
   "id": "c3aa337d",
   "metadata": {},
   "outputs": [
    {
     "name": "stdout",
     "output_type": "stream",
     "text": [
      "Row(region='Australia and Oceania', total_sales=10711258.0)\n",
      "Row(region='Europe', total_sales=34964748.0)\n",
      "Row(region='Middle East and North Africa', total_sales=24765128.0)\n",
      "Row(region='Central America and the Caribbean', total_sales=17570836.0)\n",
      "Row(region='Asia', total_sales=28840812.0)\n",
      "Row(region='Sub-Saharan Africa', total_sales=24225438.0)\n",
      "Row(region='North America', total_sales=3611757.5)\n"
     ]
    }
   ],
   "source": [
    "rows = session.execute('SELECT * FROM gold_sales_region')\n",
    "\n",
    "for row in rows:\n",
    "    print(row)\n"
   ]
  },
  {
   "cell_type": "code",
   "execution_count": 23,
   "id": "505f2f87",
   "metadata": {
    "scrolled": true
   },
   "outputs": [
    {
     "name": "stdout",
     "output_type": "stream",
     "text": [
      "Row(country='Malaysia', total_sales=434357.3125)\n",
      "Row(country='Israel', total_sales=223442.046875)\n",
      "Row(country='Serbia', total_sales=802989.4375)\n",
      "Row(country='Djibouti', total_sales=61415.359375)\n",
      "Row(country='Egypt', total_sales=130261.7578125)\n",
      "Row(country='Nicaragua', total_sales=5944506.0)\n",
      "Row(country='Romania', total_sales=1726589.375)\n",
      "Row(country='Sao Tome and Principe', total_sales=301612.8125)\n",
      "Row(country='Liberia', total_sales=337990.71875)\n",
      "Row(country='Vanuatu', total_sales=1222089.25)\n",
      "Row(country='Morocco', total_sales=503890.09375)\n",
      "Row(country='Lebanon', total_sales=3699975.25)\n",
      "Row(country='Madagascar', total_sales=339860.8125)\n",
      "Row(country='Mali', total_sales=2884921.5)\n",
      "Row(country='Togo', total_sales=2101183.25)\n",
      "Row(country='Sri Lanka', total_sales=12866.0703125)\n",
      "Row(country='Canada', total_sales=3263260.75)\n",
      "Row(country='Vietnam', total_sales=652532.3125)\n",
      "Row(country='Mauritius ', total_sales=603225.625)\n",
      "Row(country='Tanzania', total_sales=3555764.5)\n",
      "Row(country='Tunisia ', total_sales=1071140.0)\n",
      "Row(country='Brunei', total_sales=868465.375)\n",
      "Row(country='Seychelles ', total_sales=28327.650390625)\n",
      "Row(country='Ghana', total_sales=1015025.8125)\n",
      "Row(country='Turkmenistan', total_sales=3223939.5)\n",
      "Row(country='Belgium', total_sales=231050.703125)\n",
      "Row(country='Iceland', total_sales=628499.375)\n",
      "Row(country='Sweden', total_sales=117913.25)\n",
      "Row(country='Dominican Republic', total_sales=69946.71875)\n",
      "Row(country='United Kingdom', total_sales=453813.59375)\n",
      "Row(country='United States of America', total_sales=348496.71875)\n",
      "Row(country='China', total_sales=3771157.0)\n",
      "Row(country='Greece', total_sales=1784241.75)\n",
      "Row(country='Democratic Republic of the Congo', total_sales=1297172.375)\n",
      "Row(country='Switzerland', total_sales=3672173.25)\n",
      "Row(country='South Africa', total_sales=14862.6904296875)\n",
      "Row(country='Kazakhstan', total_sales=206288.15625)\n",
      "Row(country='Papua New Guinea', total_sales=1145454.125)\n",
      "Row(country='India', total_sales=816150.4375)\n",
      "Row(country='Thailand', total_sales=1871246.0)\n",
      "Row(country='Haiti', total_sales=1336282.875)\n",
      "Row(country='Estonia', total_sales=6666661.5)\n",
      "Row(country='Kuwait', total_sales=979683.8125)\n",
      "Row(country='Czech Republic', total_sales=4003440.5)\n",
      "Row(country='Dominica', total_sales=5006276.5)\n",
      "Row(country='Nepal', total_sales=4006267.5)\n",
      "Row(country='Taiwan', total_sales=2007920.125)\n",
      "Row(country='Antigua and Barbuda ', total_sales=4100669.25)\n",
      "Row(country='Algeria', total_sales=4227287.0)\n",
      "Row(country='Uganda', total_sales=2673613.5)\n",
      "Row(country='France', total_sales=2517397.5)\n",
      "Row(country='Finland', total_sales=5552598.0)\n",
      "Row(country='Monaco', total_sales=123797.046875)\n",
      "Row(country='Indonesia', total_sales=1176911.625)\n",
      "Row(country='Netherlands', total_sales=92245.7109375)\n",
      "Row(country='Burundi', total_sales=167640.84375)\n",
      "Row(country='South Korea', total_sales=3012716.5)\n",
      "Row(country='The Gambia', total_sales=81161.671875)\n",
      "Row(country='Pakistan', total_sales=4205821.5)\n",
      "Row(country='United Arab Emirates', total_sales=6253569.5)\n",
      "Row(country='Saint Lucia', total_sales=33410.73046875)\n",
      "Row(country='Samoa ', total_sales=3780403.5)\n",
      "Row(country='Rwanda', total_sales=56530.46875)\n",
      "Row(country='Tonga', total_sales=1411953.625)\n",
      "Row(country='New Zealand', total_sales=274640.59375)\n",
      "Row(country='Solomon Islands', total_sales=2823440.75)\n",
      "Row(country='Moldova ', total_sales=34856.87890625)\n",
      "Row(country='Japan', total_sales=5608790.0)\n",
      "Row(country='Belize', total_sales=288752.09375)\n",
      "Row(country='Montenegro', total_sales=231345.765625)\n",
      "Row(country='Slovakia', total_sales=188518.84375)\n",
      "Row(country='The Bahamas', total_sales=790991.1875)\n",
      "Row(country='Albania', total_sales=2140268.5)\n",
      "Row(country='Zimbabwe', total_sales=6266594.0)\n",
      "Row(country='Ethiopia', total_sales=289426.40625)\n",
      "Row(country='Malawi', total_sales=2149107.75)\n",
      "Row(country='Italy', total_sales=3996349.0)\n",
      "Row(country='East Timor', total_sales=53276.30078125)\n",
      "Row(country='Singapore', total_sales=1171204.125)\n",
      "Row(country='Oman', total_sales=3470056.5)\n"
     ]
    }
   ],
   "source": [
    "\n",
    "rows = session.execute('SELECT * FROM gold_sales_country')\n",
    "\n",
    "for row in rows:\n",
    "    print(row)\n"
   ]
  },
  {
   "cell_type": "code",
   "execution_count": 24,
   "id": "88fc9570",
   "metadata": {},
   "outputs": [
    {
     "name": "stdout",
     "output_type": "stream",
     "text": [
      "Row(item_type='Household', total_sales=38519084.0)\n",
      "Row(item_type='Office Supplies', total_sales=27880904.0)\n",
      "Row(item_type='Vegetables', total_sales=1135114.125)\n",
      "Row(item_type='Snacks', total_sales=2193642.75)\n",
      "Row(item_type='Personal Care', total_sales=3191147.75)\n",
      "Row(item_type='Meat', total_sales=21278866.0)\n",
      "Row(item_type='Fruits', total_sales=615033.625)\n",
      "Row(item_type='Beverages', total_sales=2145024.75)\n",
      "Row(item_type='Cereal', total_sales=9416123.0)\n",
      "Row(item_type='Cosmetics', total_sales=28727100.0)\n",
      "Row(item_type='Baby Food', total_sales=5200564.0)\n",
      "Row(item_type='Clothes', total_sales=4387373.5)\n"
     ]
    }
   ],
   "source": [
    "rows = session.execute('SELECT * FROM gold_sales_item_type')\n",
    "\n",
    "for row in rows:\n",
    "    print(row)\n"
   ]
  },
  {
   "cell_type": "code",
   "execution_count": null,
   "id": "1b97951f",
   "metadata": {},
   "outputs": [],
   "source": []
  }
 ],
 "metadata": {
  "kernelspec": {
   "display_name": "Python 3 (ipykernel)",
   "language": "python",
   "name": "python3"
  },
  "language_info": {
   "codemirror_mode": {
    "name": "ipython",
    "version": 3
   },
   "file_extension": ".py",
   "mimetype": "text/x-python",
   "name": "python",
   "nbconvert_exporter": "python",
   "pygments_lexer": "ipython3",
   "version": "3.9.13"
  }
 },
 "nbformat": 4,
 "nbformat_minor": 5
}
